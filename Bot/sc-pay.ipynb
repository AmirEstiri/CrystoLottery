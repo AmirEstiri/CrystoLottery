{
 "cells": [
  {
   "cell_type": "code",
   "execution_count": null,
   "metadata": {},
   "outputs": [],
   "source": [
    "from const import *\n",
    "import time\n",
    "from web3 import Web3\n",
    "from os import path\n",
    "import json\n",
    "\n",
    "web3 = Web3(Web3.HTTPProvider(BSC))\n",
    "contract = web3.eth.contract(address=CONTRACT_ADDRESS, abi=ABI)\n",
    "\n",
    "all_users = {}\n",
    "all_tickets = {}\n",
    "all_winners = {}\n",
    "\n",
    "if path.exists(\"../\"+USER_FILE):\n",
    "    f = open(\"../\"+USER_FILE, \"r\")\n",
    "    all_users = json.load(f)\n",
    "    f.close()\n",
    "\n",
    "if path.exists(\"../\"+TICKET_FILE):\n",
    "    f = open(\"../\"+TICKET_FILE, \"r\")\n",
    "    all_tickets = json.load(f)\n",
    "    f.close()\n",
    "\n",
    "if path.exists(\"../\"+WINNERS_FILE):\n",
    "    f = open(\"../\"+WINNERS_FILE, \"r\")\n",
    "    all_winners = json.load(f)\n",
    "    f.close()\n",
    "\n",
    "for k, money in all_winners:\n",
    "    wallet = all_users[k][0]\n",
    "    nonce = web3.eth.getTransactionCount(OWNER)\n",
    "    tx = contract.functions.senUSDT(wallet, money).buildTransaction({\n",
    "        'chainId': CHAIN_ID, 'nonce': nonce, 'gas': 500000, 'gasPrice': 10000000000,\n",
    "    })\n",
    "    sign_tx = web3.eth.account.signTransaction(tx, PRIV_KEY)\n",
    "    try:\n",
    "        web3.eth.sendRawTransaction(sign_tx.rawTransaction)\n",
    "        print(f\"SendUSDT successful for {wallet}, {money}\")\n",
    "        del all_winners[k]\n",
    "    except:\n",
    "        print(f\"SendUSDT failed for {wallet}, {money}\")\n",
    "    time.sleep(20)"
   ]
  }
 ],
 "metadata": {
  "language_info": {
   "name": "python"
  },
  "orig_nbformat": 4
 },
 "nbformat": 4,
 "nbformat_minor": 2
}
