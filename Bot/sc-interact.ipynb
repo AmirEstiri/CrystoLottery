{
 "cells": [
  {
   "cell_type": "code",
   "execution_count": 1,
   "metadata": {},
   "outputs": [
    {
     "data": {
      "text/plain": [
       "False"
      ]
     },
     "execution_count": 1,
     "metadata": {},
     "output_type": "execute_result"
    }
   ],
   "source": [
    "from web3 import Web3\n",
    "from const import *\n",
    "\n",
    "web3 = Web3(Web3.HTTPProvider(BSC))\n",
    "contract = web3.eth.contract(address=CONTRACT_ADDRESS, abi=ABI)\n",
    "contract.functions.userExists(\"mammad\").call()\n",
    "# contract.functions.users(0).call()\n",
    "# contract.functions.tickets(4).call()\n",
    "# contract.functions.getLotteryTokens().call()\n",
    "# contract.functions.getTickets().call()"
   ]
  },
  {
   "cell_type": "code",
   "execution_count": 6,
   "metadata": {},
   "outputs": [],
   "source": [
    "nonce = web3.eth.getTransactionCount(OWNER)\n",
    "tx = contract.functions.setWinnerAmounts([0, 0, 1000000000000000000, 2000000000000000000, 3000000000000000000, 4000000000000000000, 5000000000000000000]).buildTransaction({\n",
    "    'chainId': CHAIN_ID, 'gas': 1000000, 'gasPrice': 10000000000, 'nonce': nonce\n",
    "})\n",
    "sign_tx = web3.eth.account.signTransaction(tx, PRIV_KEY)\n",
    "try:\n",
    "    web3.eth.sendRawTransaction(sign_tx.rawTransaction)\n",
    "except ValueError:\n",
    "    print('error')"
   ]
  },
  {
   "cell_type": "code",
   "execution_count": 8,
   "metadata": {},
   "outputs": [],
   "source": [
    "nonce = web3.eth.getTransactionCount(OWNER)\n",
    "tx = contract.functions.setRefWinnerAmounts([0, 0, 1000000000000000000, 1000000000000000000, 1000000000000000000, 1000000000000000000, 1000000000000000000]).buildTransaction({\n",
    "    'chainId': CHAIN_ID, 'gas': 1000000, 'gasPrice': 10000000000, 'nonce': nonce\n",
    "})\n",
    "sign_tx = web3.eth.account.signTransaction(tx, PRIV_KEY)\n",
    "try:\n",
    "    web3.eth.sendRawTransaction(sign_tx.rawTransaction)\n",
    "except ValueError:\n",
    "    print('error')"
   ]
  },
  {
   "cell_type": "code",
   "execution_count": 11,
   "metadata": {},
   "outputs": [
    {
     "name": "stdout",
     "output_type": "stream",
     "text": [
      "{'from': '0x9c792C6b87504856Cb9427F8E33c776b624b2fC9', 'to': '0x55d398326f99059fF775485246999027B3197955', 'value': 0, 'gas': 76654, 'gasPrice': 5000000000}\n"
     ]
    }
   ],
   "source": [
    "web3 = Web3(Web3.HTTPProvider(BSC))\n",
    "try:\n",
    "    receipt = web3.eth.getTransaction(\"0xf08871839942a0ae71bbb221c362f89d70672c1807d6a6a4237ccee71dfa4203\")\n",
    "    print({'from': receipt['from'], 'to': receipt['to'], 'value': receipt['value'], 'gas': receipt['gas'], 'gasPrice': receipt['gasPrice']})\n",
    "except:\n",
    "    print(\"error\")"
   ]
  },
  {
   "cell_type": "code",
   "execution_count": 33,
   "metadata": {},
   "outputs": [
    {
     "data": {
      "text/plain": [
       "'0x8beaf4d25aa1a9a3dcd530fbf6df373392b969ec'"
      ]
     },
     "execution_count": 33,
     "metadata": {},
     "output_type": "execute_result"
    }
   ],
   "source": [
    "# web3.eth.getTransaction(\"0xf08871839942a0ae71bbb221c362f89d70672c1807d6a6a4237ccee71dfa4203\")\n",
    "'0x' + web3.eth.getTransaction(\"0xf08871839942a0ae71bbb221c362f89d70672c1807d6a6a4237ccee71dfa4203\")['input'][10:-64][-40:]"
   ]
  }
 ],
 "metadata": {
  "interpreter": {
   "hash": "2db524e06e9f5f4ffedc911c917cb75e12dbc923643829bf417064a77eb14d37"
  },
  "kernelspec": {
   "display_name": "Python 3.8.4 64-bit",
   "language": "python",
   "name": "python3"
  },
  "language_info": {
   "codemirror_mode": {
    "name": "ipython",
    "version": 3
   },
   "file_extension": ".py",
   "mimetype": "text/x-python",
   "name": "python",
   "nbconvert_exporter": "python",
   "pygments_lexer": "ipython3",
   "version": "3.8.4"
  },
  "orig_nbformat": 4
 },
 "nbformat": 4,
 "nbformat_minor": 2
}
