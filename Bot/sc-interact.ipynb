{
 "cells": [
  {
   "cell_type": "code",
   "execution_count": 20,
   "metadata": {},
   "outputs": [
    {
     "ename": "ABIFunctionNotFound",
     "evalue": "(\"The function 'getTickets' was not found in this contract's abi. \", 'Are you sure you provided the correct contract abi?')",
     "output_type": "error",
     "traceback": [
      "\u001b[1;31m---------------------------------------------------------------------------\u001b[0m",
      "\u001b[1;31mABIFunctionNotFound\u001b[0m                       Traceback (most recent call last)",
      "\u001b[1;32m<ipython-input-20-f53db5ae2b29>\u001b[0m in \u001b[0;36m<module>\u001b[1;34m\u001b[0m\n\u001b[0;32m      8\u001b[0m \u001b[1;31m# contract.functions.tickets(4).call()\u001b[0m\u001b[1;33m\u001b[0m\u001b[1;33m\u001b[0m\u001b[1;33m\u001b[0m\u001b[0m\n\u001b[0;32m      9\u001b[0m \u001b[1;31m# contract.functions.getLotteryTokens().call()\u001b[0m\u001b[1;33m\u001b[0m\u001b[1;33m\u001b[0m\u001b[1;33m\u001b[0m\u001b[0m\n\u001b[1;32m---> 10\u001b[1;33m \u001b[0mcontract\u001b[0m\u001b[1;33m.\u001b[0m\u001b[0mfunctions\u001b[0m\u001b[1;33m.\u001b[0m\u001b[0mgetTickets\u001b[0m\u001b[1;33m(\u001b[0m\u001b[1;33m)\u001b[0m\u001b[1;33m.\u001b[0m\u001b[0mcall\u001b[0m\u001b[1;33m(\u001b[0m\u001b[1;33m)\u001b[0m\u001b[1;33m\u001b[0m\u001b[1;33m\u001b[0m\u001b[0m\n\u001b[0m",
      "\u001b[1;32mC:\\Python38\\lib\\site-packages\\web3\\contract.py\u001b[0m in \u001b[0;36m__getattr__\u001b[1;34m(self, function_name)\u001b[0m\n\u001b[0;32m    192\u001b[0m             )\n\u001b[0;32m    193\u001b[0m         \u001b[1;32melif\u001b[0m \u001b[0mfunction_name\u001b[0m \u001b[1;32mnot\u001b[0m \u001b[1;32min\u001b[0m \u001b[0mself\u001b[0m\u001b[1;33m.\u001b[0m\u001b[0m__dict__\u001b[0m\u001b[1;33m[\u001b[0m\u001b[1;34m'_functions'\u001b[0m\u001b[1;33m]\u001b[0m\u001b[1;33m:\u001b[0m\u001b[1;33m\u001b[0m\u001b[1;33m\u001b[0m\u001b[0m\n\u001b[1;32m--> 194\u001b[1;33m             raise ABIFunctionNotFound(\n\u001b[0m\u001b[0;32m    195\u001b[0m                 \u001b[1;34m\"The function '{}' was not found in this contract's abi. \"\u001b[0m\u001b[1;33m.\u001b[0m\u001b[0mformat\u001b[0m\u001b[1;33m(\u001b[0m\u001b[0mfunction_name\u001b[0m\u001b[1;33m)\u001b[0m\u001b[1;33m,\u001b[0m\u001b[1;33m\u001b[0m\u001b[1;33m\u001b[0m\u001b[0m\n\u001b[0;32m    196\u001b[0m                 \u001b[1;34m\"Are you sure you provided the correct contract abi?\"\u001b[0m\u001b[1;33m\u001b[0m\u001b[1;33m\u001b[0m\u001b[0m\n",
      "\u001b[1;31mABIFunctionNotFound\u001b[0m: (\"The function 'getTickets' was not found in this contract's abi. \", 'Are you sure you provided the correct contract abi?')"
     ]
    }
   ],
   "source": [
    "from web3 import Web3\n",
    "from const import *\n",
    "\n",
    "web3 = Web3(Web3.HTTPProvider(BSC))\n",
    "contract = web3.eth.contract(address=CONTRACT_ADDRESS, abi=ABI)\n",
    "# contract.functions.userExists(\"mammad\").call()\n",
    "# contract.functions.users(0).call()\n",
    "# contract.functions.tickets(4).call()\n",
    "# contract.functions.getLotteryTokens().call()\n",
    "contract.functions.getTickets().call()"
   ]
  },
  {
   "cell_type": "code",
   "execution_count": 6,
   "metadata": {},
   "outputs": [],
   "source": [
    "nonce = web3.eth.getTransactionCount(OWNER)\n",
    "tx = contract.functions.setWinnerAmounts([0, 0, 1000000000000000000, 2000000000000000000, 3000000000000000000, 4000000000000000000, 5000000000000000000]).buildTransaction({\n",
    "    'chainId': CHAIN_ID, 'gas': 1000000, 'gasPrice': 10000000000, 'nonce': nonce\n",
    "})\n",
    "sign_tx = web3.eth.account.signTransaction(tx, PRIV_KEY)\n",
    "try:\n",
    "    web3.eth.sendRawTransaction(sign_tx.rawTransaction)\n",
    "except ValueError:\n",
    "    print('error')"
   ]
  },
  {
   "cell_type": "code",
   "execution_count": 8,
   "metadata": {},
   "outputs": [],
   "source": [
    "nonce = web3.eth.getTransactionCount(OWNER)\n",
    "tx = contract.functions.setRefWinnerAmounts([0, 0, 1000000000000000000, 1000000000000000000, 1000000000000000000, 1000000000000000000, 1000000000000000000]).buildTransaction({\n",
    "    'chainId': CHAIN_ID, 'gas': 1000000, 'gasPrice': 10000000000, 'nonce': nonce\n",
    "})\n",
    "sign_tx = web3.eth.account.signTransaction(tx, PRIV_KEY)\n",
    "try:\n",
    "    web3.eth.sendRawTransaction(sign_tx.rawTransaction)\n",
    "except ValueError:\n",
    "    print('error')"
   ]
  },
  {
   "cell_type": "code",
   "execution_count": 11,
   "metadata": {},
   "outputs": [
    {
     "name": "stdout",
     "output_type": "stream",
     "text": [
      "{'from': '0x9c792C6b87504856Cb9427F8E33c776b624b2fC9', 'to': '0x55d398326f99059fF775485246999027B3197955', 'value': 0, 'gas': 76654, 'gasPrice': 5000000000}\n"
     ]
    }
   ],
   "source": [
    "web3 = Web3(Web3.HTTPProvider(BSC))\n",
    "try:\n",
    "    receipt = web3.eth.getTransaction(\"0xf08871839942a0ae71bbb221c362f89d70672c1807d6a6a4237ccee71dfa4203\")\n",
    "    print({'from': receipt['from'], 'to': receipt['to'], 'value': receipt['value'], 'gas': receipt['gas'], 'gasPrice': receipt['gasPrice']})\n",
    "except:\n",
    "    print(\"error\")"
   ]
  },
  {
   "cell_type": "code",
   "execution_count": 33,
   "metadata": {},
   "outputs": [
    {
     "data": {
      "text/plain": [
       "'0x8beaf4d25aa1a9a3dcd530fbf6df373392b969ec'"
      ]
     },
     "execution_count": 33,
     "metadata": {},
     "output_type": "execute_result"
    }
   ],
   "source": [
    "# web3.eth.getTransaction(\"0xf08871839942a0ae71bbb221c362f89d70672c1807d6a6a4237ccee71dfa4203\")\n",
    "'0x' + web3.eth.getTransaction(\"0xf08871839942a0ae71bbb221c362f89d70672c1807d6a6a4237ccee71dfa4203\")['input'][10:-64][-40:]"
   ]
  }
 ],
 "metadata": {
  "interpreter": {
   "hash": "2db524e06e9f5f4ffedc911c917cb75e12dbc923643829bf417064a77eb14d37"
  },
  "kernelspec": {
   "display_name": "Python 3.8.4 64-bit",
   "language": "python",
   "name": "python3"
  },
  "language_info": {
   "codemirror_mode": {
    "name": "ipython",
    "version": 3
   },
   "file_extension": ".py",
   "mimetype": "text/x-python",
   "name": "python",
   "nbconvert_exporter": "python",
   "pygments_lexer": "ipython3",
   "version": "3.8.4"
  },
  "orig_nbformat": 4
 },
 "nbformat": 4,
 "nbformat_minor": 2
}
