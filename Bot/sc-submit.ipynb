{
 "cells": [
  {
   "cell_type": "code",
   "execution_count": 32,
   "metadata": {},
   "outputs": [],
   "source": [
    "from const import *\n",
    "import time\n",
    "from web3 import Web3\n",
    "from os import path\n",
    "import json\n",
    "\n",
    "\n",
    "def register_user(usrnm, wallet, rfrr):\n",
    "    nonce = web3.eth.getTransactionCount(OWNER)\n",
    "    tx = contract.functions.registerUser(usrnm, wallet, rfrr).buildTransaction({\n",
    "        'chainId': CHAIN_ID, 'nonce': nonce, 'gas': 1000000, 'gasPrice': 10000000000,\n",
    "    })\n",
    "    sign_tx = web3.eth.account.signTransaction(tx, PRIV_KEY)\n",
    "    try:\n",
    "        web3.eth.sendRawTransaction(sign_tx.rawTransaction)\n",
    "        print(f\"Register User successful for {usrnm}, {wallet}, {rfrr}\")\n",
    "        return True\n",
    "    except ValueError:\n",
    "        print(f\"Register User failed for {usrnm}, {wallet}, {rfrr}\")\n",
    "        f = open(FAILED_FILE, \"a\")\n",
    "        f.write(f\"Register User: {usrnm}, {wallet}, {rfrr}\\n\")\n",
    "        f.close()\n",
    "        return False\n",
    "\n",
    "\n",
    "def register_tickets(usrnm, tkns1, tkns2, tkns3):\n",
    "    nonce = web3.eth.getTransactionCount(OWNER)\n",
    "    tx = contract.functions.registerTickets(usrnm, tkns1, tkns2, tkns3).buildTransaction({\n",
    "        'chainId': CHAIN_ID, 'nonce': nonce, 'gas': 1000000, 'gasPrice': 10000000000,\n",
    "    })\n",
    "    sign_tx = web3.eth.account.signTransaction(tx, PRIV_KEY)\n",
    "    try:\n",
    "        web3.eth.sendRawTransaction(sign_tx.rawTransaction)\n",
    "        print(f\"Register Tickets successful for {usrnm}, {tkns1}, {tkns2}, {tkns3}\")\n",
    "        return True\n",
    "    except ValueError:\n",
    "        print(f\"Register Tickets failed for {usrnm}, {tkns1}, {tkns2}, {tkns3}\")\n",
    "        f = open(FAILED_FILE, \"a\")\n",
    "        f.write(f\"Register Tickets: {usrnm}, {tkns1}, {tkns2}, {tkns3}\\n\")\n",
    "        f.close()\n",
    "        return False"
   ]
  },
  {
   "cell_type": "code",
   "execution_count": 35,
   "metadata": {},
   "outputs": [],
   "source": [
    "web3 = Web3(Web3.HTTPProvider(BSC))\n",
    "contract = web3.eth.contract(address=CONTRACT_ADDRESS, abi=ABI)\n",
    "\n",
    "all_users = {}\n",
    "all_tickets = {}\n",
    "\n",
    "if path.exists(\"../\"+USER_FILE):\n",
    "    f = open(\"../\"+USER_FILE, \"r\")\n",
    "    all_users = json.load(f)\n",
    "    f.close()\n",
    "\n",
    "if path.exists(\"../\"+TICKET_FILE):\n",
    "    f = open(\"../\"+TICKET_FILE, \"r\")\n",
    "    all_tickets = json.load(f)\n",
    "    f.close()"
   ]
  },
  {
   "cell_type": "code",
   "execution_count": 36,
   "metadata": {},
   "outputs": [
    {
     "name": "stdout",
     "output_type": "stream",
     "text": [
      "Register User successful for 3, 0x9c792C6b87504856Cb9427F8E33c776b624b2fC9, 221514152\n",
      "Register User successful for 4, 0x9c792C6b87504856Cb9427F8E33c776b624b2fC9, 221514152\n",
      "Register User successful for 5, 0x9c792C6b87504856Cb9427F8E33c776b624b2fC9, 221514152\n",
      "Register User successful for 6, 0x9c792C6b87504856Cb9427F8E33c776b624b2fC9, 221514152\n",
      "Register User successful for 7, 0x9c792C6b87504856Cb9427F8E33c776b624b2fC9, 221514152\n",
      "Register User successful for 8, 0x9c792C6b87504856Cb9427F8E33c776b624b2fC9, 221514152\n",
      "Register User successful for 9, 0x9c792C6b87504856Cb9427F8E33c776b624b2fC9, 221514152\n",
      "Register User successful for 221514152, 0x9c792C6b87504856Cb9427F8E33c776b624b2fC9, \n"
     ]
    }
   ],
   "source": [
    "for k, v in all_users.items():\n",
    "    if v[2] == 0:\n",
    "        res = register_user(k, v[0], v[1])\n",
    "        if res:\n",
    "            v[2] = 1\n",
    "            time.sleep(20)\n",
    "f = open(\"../\"+USER_FILE, \"w\")\n",
    "f.write(json.dumps(all_users))\n",
    "f.close()"
   ]
  },
  {
   "cell_type": "code",
   "execution_count": 41,
   "metadata": {},
   "outputs": [
    {
     "name": "stdout",
     "output_type": "stream",
     "text": [
      "Register Tickets successful for 1, [1, 2, 3, 4, 5, 6], [1, 2, 3, 4, 5, 6], [1, 2, 3, 4, 5, 6]\n",
      "Register Tickets successful for 3, [1, 2, 3, 4, 5, 6], [1, 2, 3, 4, 5, 6], [1, 2, 3, 4, 5, 6]\n",
      "Register Tickets successful for 3, [1, 2, 3, 4, 5, 6], [1, 2, 3, 4, 5, 6], [1, 2, 3, 4, 5, 6]\n",
      "Register Tickets successful for 5, [1, 2, 3, 4, 5, 6], [1, 2, 3, 4, 5, 6], [1, 2, 3, 4, 5, 6]\n",
      "Register Tickets successful for 7, [1, 2, 3, 4, 5, 6], [1, 2, 3, 4, 5, 6], [1, 2, 3, 4, 5, 6]\n",
      "Register Tickets successful for 9, [1, 2, 3, 4, 5, 6], [1, 2, 3, 4, 5, 6], [1, 2, 3, 4, 5, 6]\n"
     ]
    }
   ],
   "source": [
    "for k, v in all_tickets.items():\n",
    "    n = len(v)\n",
    "    for i in range(n//3):\n",
    "        if v[3*i][6] == 0 and v[3*i+1][6] == 0  and v[3*i+2][6] == 0:\n",
    "            res = register_tickets(k, v[3*i][:6], v[3*i+1][:6], v[3*i+2][:6])\n",
    "            if res:\n",
    "                v[3*i][6] = 1\n",
    "                v[3*i+1][6] = 1\n",
    "                v[3*i+2][6] = 1\n",
    "                time.sleep(20)\n",
    "f = open(\"../\"+TICKET_FILE, \"w\")\n",
    "f.write(json.dumps(all_tickets))\n",
    "f.close()"
   ]
  },
  {
   "cell_type": "code",
   "execution_count": null,
   "metadata": {},
   "outputs": [],
   "source": [
    "url = \"https://testnet.bscscan.com/address/0x364A1C7eE72d4813877a3Ac9BeF8bA965e889f90\"\n",
    "txn_hash = \"0xa69317ba1070eeb139b7efc8e104e462074fec71e85fa4d5df99045ab2244554\"\n",
    "url+txn_hash\n"
   ]
  }
 ],
 "metadata": {
  "interpreter": {
   "hash": "2db524e06e9f5f4ffedc911c917cb75e12dbc923643829bf417064a77eb14d37"
  },
  "kernelspec": {
   "display_name": "Python 3.8.4 64-bit",
   "language": "python",
   "name": "python3"
  },
  "language_info": {
   "codemirror_mode": {
    "name": "ipython",
    "version": 3
   },
   "file_extension": ".py",
   "mimetype": "text/x-python",
   "name": "python",
   "nbconvert_exporter": "python",
   "pygments_lexer": "ipython3",
   "version": "3.8.4"
  },
  "orig_nbformat": 4
 },
 "nbformat": 4,
 "nbformat_minor": 2
}
