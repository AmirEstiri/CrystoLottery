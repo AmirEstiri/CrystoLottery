{
 "cells": [
  {
   "cell_type": "code",
   "execution_count": 106,
   "metadata": {},
   "outputs": [],
   "source": [
    "import numpy as np"
   ]
  },
  {
   "cell_type": "code",
   "execution_count": 107,
   "metadata": {},
   "outputs": [],
   "source": [
    "NUM_USERS = 1000\n",
    "ENTRANCE_FEE = 10 #USDT\n",
    "TOKEN_RANGE = 50\n",
    "TOKEN_SIZE = 6\n",
    "WIN_AMOUNT = [0, 0, 20, 50, 100, 200, 800]\n",
    "FIXED = [True, True, True, True, False, False]\n",
    "REF_WIN_AMOUNT = [0, 0, 5, 10, 15, 20, 80]\n",
    "LOTTERY_TOKENS = 1+np.random.choice(TOKEN_RANGE-1, TOKEN_SIZE)"
   ]
  },
  {
   "cell_type": "code",
   "execution_count": 108,
   "metadata": {},
   "outputs": [],
   "source": [
    "def lottery_score(tok1, tok2):\n",
    "    score = 0\n",
    "    for i in range(TOKEN_SIZE):\n",
    "        if tok1[i] in tok2:\n",
    "            score += 1\n",
    "    return score\n",
    "\n",
    "\n",
    "def get_user(user_id):\n",
    "    for u in users:\n",
    "        if u.id == user_id:\n",
    "            return u\n",
    "    return None\n",
    "\n",
    "\n",
    "class User:\n",
    "    def __init__(self, user_id, referer_id):\n",
    "        self.id = user_id\n",
    "        self.referer = referer_id\n",
    "        self. tokens = 1+np.random.choice(TOKEN_RANGE-1, TOKEN_SIZE)\n",
    "        self.satisfaction = -ENTRANCE_FEE\n",
    "        self.score = lottery_score(self.tokens, LOTTERY_TOKENS)\n",
    "        self.free_play = True if np.random.rand() < TOKEN_SIZE/TOKEN_RANGE else False"
   ]
  },
  {
   "cell_type": "code",
   "execution_count": 109,
   "metadata": {},
   "outputs": [
    {
     "name": "stdout",
     "output_type": "stream",
     "text": [
      "8710\n"
     ]
    }
   ],
   "source": [
    "# Generate random users\n",
    "users = []\n",
    "id = 1\n",
    "\n",
    "users.append(User(id, 0))\n",
    "id += 1\n",
    "while len(users) < NUM_USERS:\n",
    "    referer = users[np.random.randint(0, len(users))]\n",
    "    users.append(User(id, referer.id))\n",
    "    id += 1\n",
    "\n",
    "bank = ENTRANCE_FEE * (NUM_USERS - sum([int(user.free_play) for user in users]))\n",
    "print(bank)"
   ]
  },
  {
   "cell_type": "code",
   "execution_count": 110,
   "metadata": {},
   "outputs": [],
   "source": [
    "# Pick winners\n",
    "referers_won = []\n",
    "size_winners = (TOKEN_SIZE+1)*[0]\n",
    "for user in users:\n",
    "    size_winners[user.score] += 1\n",
    "f = open(\"simulation.txt\", \"w\")\n",
    "for user in users:\n",
    "    if WIN_AMOUNT[user.score] > 0:\n",
    "        if FIXED[user.score]:\n",
    "            user.satisfaction += WIN_AMOUNT[user.score]\n",
    "            bank -= WIN_AMOUNT[user.score]\n",
    "            f.write(f\"User {user.id} won {WIN_AMOUNT[user.score]}$ => Bank: {bank}$\\n\")\n",
    "            if user.referer != 0:\n",
    "                if user.referer not in referers_won:\n",
    "                    referers_won.append(user.referer)\n",
    "                referer_user = users[user.referer-1] #get_user(user.referer)\n",
    "                referer_user.satisfaction += REF_WIN_AMOUNT[user.score]\n",
    "                bank -= REF_WIN_AMOUNT[user.score]\n",
    "                f.write(f\"User {referer_user.id} won {REF_WIN_AMOUNT[user.score]}$ by reference$ => Bank: {bank}$\\n\")\n",
    "        else:\n",
    "            user.satisfaction += WIN_AMOUNT[user.score] / size_winners[user.score]\n",
    "            bank -= WIN_AMOUNT[user.score] / size_winners[user.score]\n",
    "            f.write(f\"User {user.id} won {WIN_AMOUNT[user.score] / size_winners[user.score]}$ => Bank: {bank}$\\n\")\n",
    "            if user.referer != 0:\n",
    "                if user.referer not in referers_won:\n",
    "                    referers_won.append(user.referer)\n",
    "                referer_user = users[user.referer-1] #get_user(user.referer)\n",
    "                referer_user.satisfaction += REF_WIN_AMOUNT[user.score] / size_winners[user.score]\n",
    "                bank -= REF_WIN_AMOUNT[user.score] / size_winners[user.score]\n",
    "                f.write(f\"User {referer_user.id} won {REF_WIN_AMOUNT[user.score] / size_winners[user.score]}$ by reference$ => Bank: {bank}$\\n\")\n",
    "f.close()"
   ]
  },
  {
   "cell_type": "code",
   "execution_count": 114,
   "metadata": {},
   "outputs": [],
   "source": [
    "# Show users data\n",
    "unsatisfied = 0\n",
    "satisfied = 0\n",
    "f = open(\"users.txt\", \"w\")\n",
    "f.write(f\"########## UNSATISFIED USERS ##########\\n\")\n",
    "for user in users:\n",
    "    if user.satisfaction < 0:\n",
    "        unsatisfied += 1\n",
    "        f.write(f\"User {user.id} satisfaction: {user.satisfaction}\\n\")\n",
    "f.write(f\"Total number of unsatisfied users: {unsatisfied}\\n\")\n",
    "\n",
    "f.write(f\"########## SATISFIED USERS ##########\\n\")\n",
    "for user in users:\n",
    "    if user.satisfaction >= -5:\n",
    "        satisfied += 1\n",
    "        f.write(f\"User {user.id} satisfaction: {user.satisfaction}\\n\")\n",
    "f.write(f\"Total number of satisfied users: {satisfied}\\n\")\n",
    "f.close()"
   ]
  }
 ],
 "metadata": {
  "interpreter": {
   "hash": "2db524e06e9f5f4ffedc911c917cb75e12dbc923643829bf417064a77eb14d37"
  },
  "kernelspec": {
   "display_name": "Python 3.8.4 64-bit",
   "language": "python",
   "name": "python3"
  },
  "language_info": {
   "codemirror_mode": {
    "name": "ipython",
    "version": 3
   },
   "file_extension": ".py",
   "mimetype": "text/x-python",
   "name": "python",
   "nbconvert_exporter": "python",
   "pygments_lexer": "ipython3",
   "version": "3.8.4"
  },
  "orig_nbformat": 4
 },
 "nbformat": 4,
 "nbformat_minor": 2
}
