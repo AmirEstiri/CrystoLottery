{
 "cells": [
  {
   "cell_type": "code",
   "execution_count": 51,
   "metadata": {},
   "outputs": [],
   "source": [
    "import numpy as np\n",
    "\n",
    "NUM_EPOCHS = 10000\n",
    "NUM_USERS = 100\n",
    "ENTRANCE_FEE = 9 #USDT\n",
    "TOKEN_RANGE = 50\n",
    "TOKEN_SIZE = 6\n",
    "NUM_TICKETS = 3\n",
    "WIN_AMOUNT = [0, 0, 10, 15, 20, 0, 0]\n",
    "FIXED = [True, True, True, True, True, True, True]\n",
    "REF_WIN_AMOUNT = [0, 0, 2, 4, 7, 0, 0]\n",
    "LOTTERY_TOKENS = 1+np.random.choice(TOKEN_RANGE-1, TOKEN_SIZE)\n",
    "\n",
    "def lottery_score(tok1, tok2):\n",
    "    score = 0\n",
    "    for i in range(TOKEN_SIZE):\n",
    "        if tok1[i] in tok2:\n",
    "            score += 1\n",
    "    return score\n",
    "\n",
    "\n",
    "def get_user(user_id):\n",
    "    for u in users:\n",
    "        if u.id == user_id:\n",
    "            return u\n",
    "    return None\n",
    "\n",
    "\n",
    "class User:\n",
    "    def __init__(self, user_id, referer_id):\n",
    "        self.id = user_id\n",
    "        self.referer = referer_id\n",
    "        self.tokens = [1+np.random.choice(TOKEN_RANGE-1, TOKEN_SIZE) for _ in range(NUM_TICKETS)]\n",
    "        self.satisfaction = -ENTRANCE_FEE\n",
    "        self.score = [lottery_score(self.tokens[i], LOTTERY_TOKENS) for i in range(NUM_TICKETS)]\n",
    "        self.free_play = False#True if np.random.rand() < TOKEN_SIZE/TOKEN_RANGE else False\n",
    "\n",
    "all_size_winners = []\n",
    "all_satisfied = []\n",
    "all_bank = []\n",
    "for _ in range(NUM_EPOCHS):\n",
    "    # Generate random users\n",
    "    users = []\n",
    "    id = 1\n",
    "    users.append(User(id, 0))\n",
    "    id += 1\n",
    "    while len(users) < NUM_USERS:\n",
    "        referer = users[np.random.randint(0, len(users))]\n",
    "        users.append(User(id, referer.id))\n",
    "        id += 1\n",
    "    bank = ENTRANCE_FEE * (NUM_USERS - sum([int(user.free_play) for user in users]))\n",
    "    # Pick winners\n",
    "    referers_won = []\n",
    "    size_winners = (TOKEN_SIZE+1)*[0]\n",
    "    for user in users:\n",
    "        for score in user.score:\n",
    "            size_winners[score] += 1\n",
    "    for user in users:\n",
    "        for score in user.score:\n",
    "            if WIN_AMOUNT[score] > 0:\n",
    "                if FIXED[score]:\n",
    "                    user.satisfaction += WIN_AMOUNT[score]\n",
    "                    bank -= WIN_AMOUNT[score]\n",
    "                    if user.referer != 0:\n",
    "                        if user.referer not in referers_won:\n",
    "                            referers_won.append(user.referer)\n",
    "                        referer_user = users[user.referer-1] #get_user(user.referer)\n",
    "                        referer_user.satisfaction += REF_WIN_AMOUNT[score]\n",
    "                        bank -= REF_WIN_AMOUNT[score]\n",
    "                else:\n",
    "                    user.satisfaction += WIN_AMOUNT[score] / size_winners[score]\n",
    "                    bank -= WIN_AMOUNT[score] / size_winners[score]\n",
    "                    if user.referer != 0:\n",
    "                        if user.referer not in referers_won:\n",
    "                            referers_won.append(user.referer)\n",
    "                        referer_user = users[user.referer-1] #get_user(user.referer)\n",
    "                        referer_user.satisfaction += REF_WIN_AMOUNT[score] / size_winners[score]\n",
    "                        bank -= REF_WIN_AMOUNT[score] / size_winners[score]\n",
    "    all_bank.append(bank)\n",
    "    all_size_winners.append(size_winners)\n",
    "    # Show users data\n",
    "    satisfied = 0\n",
    "    for user in users:\n",
    "        if user.satisfaction >= 0:\n",
    "            satisfied += 1\n",
    "    all_satisfied.append(satisfied)"
   ]
  },
  {
   "cell_type": "code",
   "execution_count": 55,
   "metadata": {},
   "outputs": [
    {
     "data": {
      "text/plain": [
       "(array([  1.,   0.,   0.,   1.,   0.,   0.,   0.,   1.,   1.,   2.,   1.,\n",
       "          3.,   7.,   8.,   3.,   9.,   7.,  18.,  17.,  17.,  18.,  20.,\n",
       "         23.,  27.,  37.,  26.,  57.,  37.,  58.,  55.,  71.,  74.,  78.,\n",
       "        115., 114., 132., 126., 158., 137., 163., 210., 174., 231., 177.,\n",
       "        244., 223., 316., 238., 287., 294., 246., 306., 272., 324., 264.,\n",
       "        317., 241., 296., 260., 237., 266., 255., 264., 189., 238., 221.,\n",
       "        227., 179., 177., 135., 124., 141.,  89., 114.,  97.,  75.,  60.,\n",
       "         48.,  53.,  40.,  46.,  41.,  26.,  22.,  18.,  20.,  22.,  10.,\n",
       "          5.,   3.,   4.,   3.,   1.,   1.,   4.,   1.,   0.,   1.,   0.,\n",
       "          1.]),\n",
       " array([-86.  , -79.55, -73.1 , -66.65, -60.2 , -53.75, -47.3 , -40.85,\n",
       "        -34.4 , -27.95, -21.5 , -15.05,  -8.6 ,  -2.15,   4.3 ,  10.75,\n",
       "         17.2 ,  23.65,  30.1 ,  36.55,  43.  ,  49.45,  55.9 ,  62.35,\n",
       "         68.8 ,  75.25,  81.7 ,  88.15,  94.6 , 101.05, 107.5 , 113.95,\n",
       "        120.4 , 126.85, 133.3 , 139.75, 146.2 , 152.65, 159.1 , 165.55,\n",
       "        172.  , 178.45, 184.9 , 191.35, 197.8 , 204.25, 210.7 , 217.15,\n",
       "        223.6 , 230.05, 236.5 , 242.95, 249.4 , 255.85, 262.3 , 268.75,\n",
       "        275.2 , 281.65, 288.1 , 294.55, 301.  , 307.45, 313.9 , 320.35,\n",
       "        326.8 , 333.25, 339.7 , 346.15, 352.6 , 359.05, 365.5 , 371.95,\n",
       "        378.4 , 384.85, 391.3 , 397.75, 404.2 , 410.65, 417.1 , 423.55,\n",
       "        430.  , 436.45, 442.9 , 449.35, 455.8 , 462.25, 468.7 , 475.15,\n",
       "        481.6 , 488.05, 494.5 , 500.95, 507.4 , 513.85, 520.3 , 526.75,\n",
       "        533.2 , 539.65, 546.1 , 552.55, 559.  ]),\n",
       " <BarContainer object of 100 artists>)"
      ]
     },
     "execution_count": 55,
     "metadata": {},
     "output_type": "execute_result"
    },
    {
     "data": {
      "image/png": "[encoded data removed]",
      "text/plain": [
       "<Figure size 432x288 with 1 Axes>"
      ]
     },
     "metadata": {
      "needs_background": "light"
     },
     "output_type": "display_data"
    }
   ],
   "source": [
    "import matplotlib.pyplot as plt\n",
    "import numpy as np\n",
    "%matplotlib inline\n",
    "\n",
    "# plt.hist(all_satisfied, density=False, bins=100)\n",
    "plt.hist(all_bank, density=False, bins=100)"
   ]
  },
  {
   "cell_type": "code",
   "execution_count": 54,
   "metadata": {},
   "outputs": [
    {
     "data": {
      "text/plain": [
       "[137, 111, 43, 9, 0, 0, 0]"
      ]
     },
     "execution_count": 54,
     "metadata": {},
     "output_type": "execute_result"
    }
   ],
   "source": [
    "size_winners"
   ]
  },
  {
   "cell_type": "code",
   "execution_count": null,
   "metadata": {},
   "outputs": [],
   "source": []
  }
 ],
 "metadata": {
  "interpreter": {
   "hash": "2db524e06e9f5f4ffedc911c917cb75e12dbc923643829bf417064a77eb14d37"
  },
  "kernelspec": {
   "display_name": "Python 3.8.4 64-bit",
   "language": "python",
   "name": "python3"
  },
  "language_info": {
   "codemirror_mode": {
    "name": "ipython",
    "version": 3
   },
   "file_extension": ".py",
   "mimetype": "text/x-python",
   "name": "python",
   "nbconvert_exporter": "python",
   "pygments_lexer": "ipython3",
   "version": "3.8.4"
  },
  "orig_nbformat": 4
 },
 "nbformat": 4,
 "nbformat_minor": 2
}
