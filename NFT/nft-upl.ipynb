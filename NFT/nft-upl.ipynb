{
 "cells": [
  {
   "cell_type": "code",
   "execution_count": 7,
   "metadata": {},
   "outputs": [],
   "source": [
    "from selenium import webdriver\n",
    "from selenium.webdriver.chrome.options import Options\n",
    "from selenium.webdriver.support.ui import Select\n",
    "from selenium.webdriver.common.by import By\n",
    "\n",
    "import os\n",
    "from tqdm import tqdm\n",
    "import time"
   ]
  },
  {
   "cell_type": "code",
   "execution_count": 3,
   "metadata": {},
   "outputs": [],
   "source": [
    "def list_item(file_name):\n",
    "    # Upload file\n",
    "    driver.find_element(By.XPATH, \"/html/body/div[1]/div/main/div/div/section/div/form/div[1]/div/div[2]/input\").send_keys(os.getcwd()+\"/images/{file_name}\")\n",
    "    # NFT Name\n",
    "    driver.find_element(By.XPATH, \"/html/body/div[1]/div/main/div/div/section/div/form/div[2]/div/div[2]/div[1]/input\").send_keys(\"Lost Legend #1\")\n",
    "    # NFT Description\n",
    "    # driver.find_element(By.XPATH, \"/html/body/div[1]/div/main/div/div/section/div/form/div[4]/div/textarea\").send_keys(\"\")\n",
    "    # Submit\n",
    "    driver.find_element(By.XPATH, \"/html/body/div[1]/div/main/div/div/section/div/form/div[9]/div[1]/span/button\").click()\n",
    "\n",
    "\n",
    "def sell_item(price):\n",
    "    # Sell button\n",
    "    driver.find_element(By.XPATH, \"/html/body/div[1]/div/main/div/div/div[1]/div/span[2]/a\").click()\n",
    "    time.sleep(3)\n",
    "    # Add price\n",
    "    driver.find_element(By.XPATH, \"/html/body/div[1]/div/main/div/div/div[2]/div/div[1]/div/form/div[2]/div/div[2]/div/div/div[2]/input\").send_keys(price)\n",
    "    # Choose time\n",
    "    driver.find_element(By.XPATH, \"/html/body/div[1]/div/main/div/div/div[2]/div/div[1]/div/form/div[3]/div/button\").click()\n",
    "    time.sleep(1)\n",
    "    elem = driver.find_element(By.XPATH, \"/html/body/div[1]/div/main/div/div/div[2]/div/div[1]/div/form/div[3]/div/button/div[2]\")\n",
    "    driver.execute_script(\"arguments[0].innerHTML = arguments[1]\", elem, \"1 month\")\n",
    "    driver.find_element(By.XPATH, \"/html/body/div[1]/div/main/div/div/div[2]/div/div[1]/div/form/div[3]/div/button\").click()\n",
    "    time.sleep(1)\n",
    "    # Submit\n",
    "    driver.find_element(By.XPATH, \"/html/body/div[1]/div/main/div/div/div[2]/div/div[1]/div/form/div[2]/div/div[1]/label/div/i\").click()\n",
    "    time.sleep(1)\n",
    "    driver.find_element(By.XPATH, \"/html/body/div[1]/div/main/div/div/div[2]/div/div[1]/div/form/div[6]/span/button\").click()"
   ]
  },
  {
   "cell_type": "code",
   "execution_count": 12,
   "metadata": {},
   "outputs": [
    {
     "name": "stderr",
     "output_type": "stream",
     "text": [
      "<ipython-input-12-82d063772728>:6: DeprecationWarning: executable_path has been deprecated, please pass in a Service object\n",
      "  driver = webdriver.Chrome(chrome_options=options, executable_path=DRIVER_PATH)\n",
      "<ipython-input-12-82d063772728>:6: DeprecationWarning: use options instead of chrome_options\n",
      "  driver = webdriver.Chrome(chrome_options=options, executable_path=DRIVER_PATH)\n"
     ]
    }
   ],
   "source": [
    "options = Options()\n",
    "# options.add_extension('extension_10_9_3_0.crx')\n",
    "options.headless = False\n",
    "DRIVER_PATH = \"chromedriver.exe\"\n",
    "\n",
    "driver = webdriver.Chrome(chrome_options=options, executable_path=DRIVER_PATH)\n",
    "driver.get(\"https://opensea.io/asset/create\")"
   ]
  },
  {
   "cell_type": "code",
   "execution_count": null,
   "metadata": {},
   "outputs": [],
   "source": [
    "for file in os.listdir(\"images/\"):\n",
    "    list_item(file)\n",
    "    sell_item(0.02)\n",
    "    driver.get(\"https://opensea.io/asset/create\")"
   ]
  }
 ],
 "metadata": {
  "interpreter": {
   "hash": "2db524e06e9f5f4ffedc911c917cb75e12dbc923643829bf417064a77eb14d37"
  },
  "kernelspec": {
   "display_name": "Python 3.8.4 64-bit",
   "language": "python",
   "name": "python3"
  },
  "language_info": {
   "codemirror_mode": {
    "name": "ipython",
    "version": 3
   },
   "file_extension": ".py",
   "mimetype": "text/x-python",
   "name": "python",
   "nbconvert_exporter": "python",
   "pygments_lexer": "ipython3",
   "version": "3.8.4"
  },
  "orig_nbformat": 4
 },
 "nbformat": 4,
 "nbformat_minor": 2
}
